{
 "cells": [
  {
   "cell_type": "code",
   "execution_count": 1,
   "metadata": {
    "collapsed": true
   },
   "outputs": [],
   "source": [
    "%matplotlib inline"
   ]
  },
  {
   "cell_type": "code",
   "execution_count": 2,
   "metadata": {
    "collapsed": true
   },
   "outputs": [],
   "source": [
    "import networkx as nx\n",
    "import numpy as np\n",
    "\n",
    "from matplotlib.patches import Polygon\n",
    "\n",
    "import pandas as pd\n",
    "\n",
    "import matplotlib.pyplot as plt"
   ]
  },
  {
   "cell_type": "code",
   "execution_count": 3,
   "metadata": {
    "collapsed": true
   },
   "outputs": [],
   "source": [
    "def get_row_edges(df_nodes):\n",
    "    frames = []\n",
    "    for i, df_i in df_nodes.groupby('row'):\n",
    "        frame = pd.DataFrame([[df_i.index[k], df_i.index[k + 1],\n",
    "                               df_i.row_i.iloc[k], df_i.row_i.iloc[k + 1]]\n",
    "                               for k in xrange(df_i.index.shape[0] - 1)],\n",
    "                              columns=['index_left', 'index_right',\n",
    "                                       'column_left', 'column_right'])\n",
    "        frame.insert(0, 'row', i)\n",
    "        frames.append(frame)\n",
    "    return pd.concat(frames)"
   ]
  },
  {
   "cell_type": "code",
   "execution_count": 4,
   "metadata": {
    "collapsed": true
   },
   "outputs": [],
   "source": [
    "def get_vertical_edges(df_nodes):\n",
    "    even_rows = (df_nodes.row & 0x1 == 0)\n",
    "    even_columns = (df_nodes.row_i & 0x1 == 0)\n",
    "    odd_rows = (df_nodes.row & 0x1 == 1)\n",
    "    odd_columns = (df_nodes.row_i & 0x1 == 1)\n",
    "    \n",
    "    even_row_columns = (df_nodes[even_rows & even_columns]\n",
    "                        .reset_index().join(df_nodes[odd_rows & even_columns]\n",
    "                                            .reset_index(), lsuffix='_top',\n",
    "                                            rsuffix='_bottom'))\n",
    "    \n",
    "    top = df_nodes[odd_rows & odd_columns].reset_index()\n",
    "    bottom = df_nodes[(df_nodes.row > 0) & even_rows & odd_columns].reset_index()\n",
    "    odd_row_columns = (top.iloc[:bottom.shape[0]]\n",
    "                       .join(bottom, lsuffix='_top', rsuffix='_bottom'))\n",
    "    \n",
    "    all_columns = pd.concat([even_row_columns, odd_row_columns])\n",
    "    return all_columns.sort(all_columns.columns.values.tolist())"
   ]
  },
  {
   "cell_type": "code",
   "execution_count": 5,
   "metadata": {
    "collapsed": false
   },
   "outputs": [],
   "source": [
    "def get_edges(df_nodes):\n",
    "    row_edges = get_vertical_edges(df_nodes)\n",
    "    vertical_edges = get_vertical_edges(df_nodes)\n",
    "\n",
    "    new_labels = ['source', 'target']\n",
    "    labels = ['index_left', 'index_right']\n",
    "    row_edges = get_row_edges(df_nodes)[labels].rename(columns=dict(zip(labels, new_labels)))\n",
    "    labels = ['index_top', 'index_bottom']\n",
    "    vertical_edges = get_vertical_edges(df_nodes)[labels].rename(columns=dict(zip(labels, new_labels)))\n",
    "    edges = pd.concat([row_edges, vertical_edges])\n",
    "    return edges.sort(edges.columns.values.tolist())"
   ]
  },
  {
   "cell_type": "code",
   "execution_count": 6,
   "metadata": {
    "collapsed": true
   },
   "outputs": [],
   "source": [
    "def get_nodes(row_count, row_length, unit_offset=.25, offset_scale=1.7):\n",
    "    df_nodes = pd.DataFrame(np.arange(row_count * row_length) / row_length,\n",
    "                            columns=['row'])\n",
    "    df_nodes['row_i'] = df_nodes.index.values % row_length\n",
    "\n",
    "    even_rows = (df_nodes.row & 0x1 == 0)\n",
    "    odd_rows = (df_nodes.row & 0x1 == 1)\n",
    "    points = (df_nodes.row_i & 0x1 == 1)\n",
    "\n",
    "    offset = (even_rows.astype(int) * ((-2 * points) + 1) + \n",
    "              odd_rows.astype(int) * ((2 * points) - 1)) * unit_offset\n",
    "    df_nodes['x'] = df_nodes.row_i\n",
    "    df_nodes['y'] = (df_nodes.row + offset + unit_offset) * offset_scale\n",
    "    return df_nodes "
   ]
  },
  {
   "cell_type": "code",
   "execution_count": 7,
   "metadata": {
    "collapsed": true
   },
   "outputs": [],
   "source": [
    "def get_hex_links_a(df_nodes):\n",
    "    frames = []\n",
    "\n",
    "    for i, df_i in df_nodes.groupby('row'):\n",
    "        # Left-aligned rows\n",
    "        for j, k in enumerate(xrange(0, df_i.shape[0] - 2, 2)):\n",
    "            hex_nodes = df_i.iloc[k:k + 3].copy()\n",
    "            hex_nodes['hex_row'] = 2 * (i // 2)\n",
    "            hex_nodes['hex_row_i'] = j\n",
    "            frames.append(hex_nodes)\n",
    "\n",
    "        if i > 0 and i < df_nodes.row.max():\n",
    "            # \"Indented\" rows\n",
    "            for j, k in enumerate(xrange(1, df_i.shape[0] - 2, 2)):\n",
    "                hex_nodes = df_i.iloc[k:k + 3].copy()\n",
    "                hex_nodes['hex_row'] = 2 *((i - 1) // 2) + 1\n",
    "                hex_nodes['hex_row_i'] = j\n",
    "                frames.append(hex_nodes)\n",
    "\n",
    "    df_hex_links = (pd.concat(frames)[['hex_row', 'hex_row_i', 'row', 'row_i']]\n",
    "                    .sort(['hex_row', 'hex_row_i', 'row', 'row_i']))\n",
    "\n",
    "    df_hex_index = (df_hex_links[['hex_row', 'hex_row_i']].drop_duplicates()\n",
    "                    .reset_index(drop=True).reset_index()\n",
    "                    .set_index(['hex_row', 'hex_row_i']))\n",
    "    return df_hex_links, df_hex_index\n",
    "\n",
    "\n",
    "def get_hex_links(df_nodes):\n",
    "    df_hex_links, df_hex_index = get_hex_links_a(df_nodes)\n",
    "    df_hex_links['hex'] = (df_hex_links[['hex_row', 'hex_row_i']]\n",
    "                           .apply(lambda row: df_hex_index.loc[row['hex_row'],\n",
    "                                                               row['hex_row_i']]\n",
    "                                  ['index'],\n",
    "                                  axis=1))\n",
    "    node_index = df_nodes.reset_index().set_index(['row', 'row_i'])['index']\n",
    "    df_hex_links['node'] = (df_hex_links\n",
    "                            .apply(lambda row: node_index.loc[row['row'],\n",
    "                                                              row['row_i']],\n",
    "                                   axis=1))\n",
    "    hex_node_counts = df_hex_links.groupby('hex')['node'].count()\n",
    "    # assert((hex_node_counts.max() == 1) and (hex_node_counts.min() == 1))\n",
    "    return (df_hex_links[['hex', 'node', 'hex_row', 'hex_row_i']]\n",
    "            .sort(['hex', 'node', 'hex_row', 'hex_row_i'])).reset_index(drop=True)"
   ]
  },
  {
   "cell_type": "code",
   "execution_count": 8,
   "metadata": {
    "collapsed": false
   },
   "outputs": [],
   "source": [
    "def get_hex_paths(df_nodes):\n",
    "    df_hex_links = get_hex_links(df_nodes)\n",
    "    df_hex_link_xy = df_hex_links.join(df_nodes[['x', 'y']].iloc[df_hex_links.node.values]\n",
    "                                       .reset_index(drop=True)).sort(['hex', 'y', 'x'])\n",
    "    df_hex_link_xy.insert(1, 'vertex_i',\n",
    "                          np.tile([0, 1, 5, 2, 4, 3],\n",
    "                                  df_hex_link_xy.hex.unique().shape[0]))\n",
    "    return df_hex_link_xy.sort(['hex', 'vertex_i']).reset_index(drop=True)"
   ]
  },
  {
   "cell_type": "code",
   "execution_count": 302,
   "metadata": {
    "collapsed": false
   },
   "outputs": [],
   "source": [
    "TERRAIN_TYPES = pd.DataFrame(['clay', 'sheep', 'ore', 'wheat',\n",
    "                              'wood', 'desert',\n",
    "                              'clay_port', 'sheep_port',\n",
    "                              'ore_port', 'wheat_port',\n",
    "                              'wood_port', 'three_to_one_port',\n",
    "                              'sea'], columns=['terrain'])\n",
    "\n",
    "# Define default map.\n",
    "DEFAULT_MAP = dict(land=(range(10, 13) + range(17, 21) + range(24, 29)\n",
    "                         + range(32, 36) + range(40, 43)),\n",
    "                   border=(range(2, 6) + [13, 21, 29, 36, 43]\n",
    "                           + range(50, 46, -1) + [39, 31, 23, 16, 9]),\n",
    "                   terrain_counts=[3, 4, 3, 4, 4, 1, 1, 1, 1, 1, 1, 4, 9])"
   ]
  },
  {
   "cell_type": "code",
   "execution_count": 303,
   "metadata": {
    "collapsed": false
   },
   "outputs": [],
   "source": [
    "def get_hexes(hex_count, map_, port_offset=0):\n",
    "    hex_count = df_hex_paths.hex.unique().max() + 1\n",
    "    df_hexes = pd.DataFrame(['sea'] * hex_count, index=range(hex_count),\n",
    "                            columns=['terrain'])\n",
    "\n",
    "    # Set region type of each hex based on `\n",
    "    df_hexes.loc[map_['land'] + map_['border'],\n",
    "                 'terrain'] = (TERRAIN_TYPES\n",
    "                               .values.repeat(map_['terrain_counts']))\n",
    "\n",
    "    df_hexes['region'] = 'sea'\n",
    "    df_hexes.loc[map_['land'], 'region'] = 'land'\n",
    "    df_hexes.loc[map_['border'], 'region'] = 'port'\n",
    "                               \n",
    "    # Assign every other border position as a *sea* tile\n",
    "    # (as opposed to a *port*).\n",
    "    border_terrain = df_hexes.loc[(df_hexes.region == 'port')\n",
    "                                  & (df_hexes.terrain != 'sea'),\n",
    "                                  'terrain'].copy()\n",
    "    df_hexes.loc[map_['border'][(port_offset & 0x1)::2], ['terrain', 'region']] = 'sea'\n",
    "    df_hexes.loc[df_hexes.region == 'port', 'terrain'] = border_terrain.values\n",
    "    return df_hexes"
   ]
  },
  {
   "cell_type": "code",
   "execution_count": 304,
   "metadata": {
    "collapsed": true
   },
   "outputs": [],
   "source": [
    "def assign_region_hex_indexes(df_hexes, inplace=False):\n",
    "    if not inplace:\n",
    "        df_hexes = df_hexes.copy()\n",
    "        \n",
    "    df_hexes.reset_index(inplace=True)\n",
    "    df_hexes.loc[df_hexes.sort(['region', 'index']).index.values,\n",
    "                 'region_hex_i'] = np.arange(df_hexes.shape[0])\n",
    "\n",
    "    region_count_prefix_sum = df_hexes.groupby('region')['terrain'].count().cumsum()\n",
    "    region_count_exclusive_prefix_sum = region_count_prefix_sum.copy()\n",
    "    region_count_exclusive_prefix_sum[0] = 0\n",
    "    region_count_exclusive_prefix_sum[1:] = region_count_prefix_sum[:-1]\n",
    "\n",
    "    df_hexes['region_hex_i'] -= region_count_exclusive_prefix_sum[df_hexes.region].values\n",
    "    df_hexes.drop('index', axis=1, inplace=True)\n",
    "    \n",
    "    if not inplace:\n",
    "        return df_hexes"
   ]
  },
  {
   "cell_type": "code",
   "execution_count": 305,
   "metadata": {
    "collapsed": false
   },
   "outputs": [],
   "source": [
    "def shuffle_regions(df_hexes, inplace=False):\n",
    "    if not inplace:\n",
    "        df_hexes = df_hexes.copy()\n",
    "    df_hexes['rand'] = np.random.rand(df_hexes.shape[0])\n",
    "    df_hexes['region_hex_rand_i'] = 0\n",
    "\n",
    "    region_hex_index = np.arange(df_hexes.shape[0])\n",
    "    df_hexes.loc[df_hexes.sort(['region', 'rand']).index,\n",
    "                 'region_hex_rand_i'] = region_hex_index\n",
    "\n",
    "    region_count_prefix_sum = df_hexes.groupby('region')['terrain'].count().cumsum()\n",
    "    region_count_exclusive_prefix_sum = region_count_prefix_sum.copy()\n",
    "    region_count_exclusive_prefix_sum[0] = 0\n",
    "    region_count_exclusive_prefix_sum[1:] = region_count_prefix_sum[:-1]\n",
    "    region_count_exclusive_prefix_sum\n",
    "\n",
    "    df_hexes['region_hex_rand_i'] -= region_count_exclusive_prefix_sum[df_hexes.region].values\n",
    "\n",
    "    for region, df_i in df_hexes.groupby('region'):\n",
    "        terrain = df_i.terrain.copy()\n",
    "        indexes = df_i.region_hex_rand_i.copy()\n",
    "        df_hexes.loc[indexes.index, 'terrain'] = terrain.values[indexes]\n",
    "        \n",
    "    df_hexes.drop(['region_hex_rand_i', 'rand'], axis=1, inplace=True)\n",
    "\n",
    "    if not inplace:\n",
    "        return df_hexes"
   ]
  },
  {
   "cell_type": "code",
   "execution_count": 306,
   "metadata": {
    "collapsed": false
   },
   "outputs": [],
   "source": [
    "def plot_hex_nodes(df_nodes, axis=None):\n",
    "    if axis is None:\n",
    "        fig, axis = plt.subplots(figsize=(10, 10))\n",
    "        \n",
    "    df_nodes.plot(kind='scatter', x='x', y='y', ax=axis)\n",
    "\n",
    "    # df_edges = get_edges(df_nodes)\n",
    "\n",
    "    # df_edge_nodes = (df_nodes.iloc[df_edges.source].reset_index(drop=True)\n",
    "                     # .join(df_nodes.iloc[df_edges.target].reset_index(drop=True),\n",
    "                           # lsuffix='_source', rsuffix='_target'))\n",
    "\n",
    "    df_hex_paths = get_hex_paths(df_nodes)\n",
    "\n",
    "    colors = axis._get_lines.color_cycle\n",
    "    color = colors.next()\n",
    "\n",
    "    for hex_i, df_i in df_hex_paths.groupby('hex'):\n",
    "        poly = Polygon(df_i[['x', 'y']].values, color=color, alpha=.5)\n",
    "        axis.add_patch(poly)\n",
    "        center = df_i[['x', 'y']].mean()\n",
    "        axis.text(center.x, center.y, str(hex_i), ha='center', va='center')\n",
    "\n",
    "    #for i, edge in df_edge_nodes.iterrows():\n",
    "        #x = [edge['x_source'], edge['x_target']]\n",
    "        #y = [edge['y_source'], edge['y_target']]\n",
    "        #axis.plot(x, y)\n",
    "    axis.set_aspect(True)\n",
    "    return axis"
   ]
  },
  {
   "cell_type": "code",
   "execution_count": 319,
   "metadata": {
    "collapsed": false
   },
   "outputs": [],
   "source": [
    "def plot_hexes(df_nodes, df_hexes, axis=None, colorby='terrain'):\n",
    "    if axis is None:\n",
    "        fig, axis = plt.subplots(figsize=(8, 6))\n",
    "        \n",
    "    df_nodes.plot(kind='scatter', x='x', y='y', ax=axis)\n",
    "\n",
    "    df_hex_paths = get_hex_paths(df_nodes)\n",
    "\n",
    "    REGION_COLORS = pd.Series(['brown', 'blue', 'white'],\n",
    "                              index=['land', 'sea', 'port'])\n",
    "    TERRAIN_COLORS = pd.Series(['red', 'green', 'grey', 'yellow', 'brown',\n",
    "                                'orange',\n",
    "                                'red', 'green', 'grey', 'yellow', 'brown',\n",
    "                                'white', 'blue'],\n",
    "                                index=['clay', 'sheep', 'ore', 'wheat', 'wood',\n",
    "                                       'desert',\n",
    "                                       'clay_port', 'sheep_port','ore_port',\n",
    "                                       'wheat_port', 'wood_port',\n",
    "                                       'three_to_one_port', 'sea'])\n",
    "\n",
    "    for hex_i, df_i in df_hex_paths.groupby('hex'):\n",
    "        hex_info = df_hexes.iloc[hex_i]\n",
    "        if colorby == 'terrain':\n",
    "            color = TERRAIN_COLORS[hex_info.terrain]\n",
    "        elif colorby == 'region':\n",
    "            color = REGION_COLORS[hex_info.region]\n",
    "        else:\n",
    "            raise ValueError('Invalid hex attribute to color by.  Must be '\n",
    "                             'either \"terrain\" or \"region\" (not %s)' % colorby)\n",
    "        alpha = 0.2 if hex_info.region == 'port' else 0.5\n",
    "        poly = Polygon(df_i[['x', 'y']].values, facecolor=color, alpha=alpha)\n",
    "        axis.add_patch(poly)\n",
    "        center = df_i[['x', 'y']].mean()\n",
    "        axis.text(center.x, center.y, str(hex_i), ha='center', va='center')\n",
    "    axis.set_aspect(True)\n",
    "    return axis"
   ]
  },
  {
   "cell_type": "code",
   "execution_count": 311,
   "metadata": {
    "collapsed": true
   },
   "outputs": [],
   "source": [
    "df_nodes = get_nodes(8, 17, .165, 1.75)\n",
    "df_hex_paths = get_hex_paths(df_nodes)\n",
    "\n",
    "hex_count = df_hex_paths.hex.unique().max() + 1\n",
    "df_hexes = get_hexes(hex_count, DEFAULT_MAP)\n",
    "assign_region_hex_indexes(df_hexes, inplace=True)"
   ]
  },
  {
   "cell_type": "code",
   "execution_count": 326,
   "metadata": {
    "collapsed": false
   },
   "outputs": [
    {
     "data": {
      "text/plain": [
       "<matplotlib.axes._subplots.AxesSubplot at 0x18d97770>"
      ]
     },
     "execution_count": 326,
     "metadata": {},
     "output_type": "execute_result"
    },
    {
     "data": {
      "image/png": "[encoded data removed]",
      "text/plain": [
       "<matplotlib.figure.Figure at 0x18dc6e50>"
      ]
     },
     "metadata": {},
     "output_type": "display_data"
    }
   ],
   "source": [
    "shuffle_regions(df_hexes, inplace=True)\n",
    "fig, axis = plt.subplots(figsize=(8, 15))\n",
    "plot_hexes(df_nodes, df_hexes, colorby='region', axis=axis)"
   ]
  },
  {
   "cell_type": "code",
   "execution_count": 16,
   "metadata": {
    "collapsed": true
   },
   "outputs": [],
   "source": [
    "import numpy as np"
   ]
  },
  {
   "cell_type": "code",
   "execution_count": 24,
   "metadata": {
    "collapsed": true
   },
   "outputs": [],
   "source": [
    "# get_hex_links(df_nodes)"
   ]
  },
  {
   "cell_type": "code",
   "execution_count": null,
   "metadata": {
    "collapsed": true
   },
   "outputs": [],
   "source": [
    "\n",
    "\n",
    "\n",
    "\n",
    "\n",
    "\n",
    "\n",
    "\n",
    "\n",
    "\n",
    "\n",
    "\n",
    "\n",
    "\n",
    "\n",
    "\n",
    "\n",
    "\n",
    "\n",
    "\n",
    "\n",
    "\n",
    "\n",
    "\n",
    "\n"
   ]
  }
 ],
 "metadata": {
  "kernelspec": {
   "display_name": "Python 2",
   "language": "python",
   "name": "python2"
  },
  "language_info": {
   "codemirror_mode": {
    "name": "ipython",
    "version": 2
   },
   "file_extension": ".py",
   "mimetype": "text/x-python",
   "name": "python",
   "nbconvert_exporter": "python",
   "pygments_lexer": "ipython2",
   "version": "2.7.9"
  }
 },
 "nbformat": 4,
 "nbformat_minor": 0
}
